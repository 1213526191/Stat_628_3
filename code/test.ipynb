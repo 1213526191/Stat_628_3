{
 "cells": [
  {
   "cell_type": "code",
   "execution_count": 4,
   "metadata": {},
   "outputs": [],
   "source": [
    "import numpy as np\n",
    "import pandas as pd\n",
    "from tree import decisionTreeNode\n",
    "import random\n",
    "import time\n",
    "\n",
    "def myc(x=0): # c function\n",
    "    y = 2*(np.log(x-1) + 0.5772156649) -2*(x-1)/x\n",
    "    return(y)\n",
    "\n",
    "def nodeInfo(X, Length=0, isLeaf=False, splitAtt=None, splitValue=None, isLeftChild=None, isRoot=True, Amount=0):\n",
    "    node = decisionTreeNode()\n",
    "    node.setLength(Length)\n",
    "    node.setsplitAtt(splitAtt)\n",
    "    node.setsplitValue(splitValue)\n",
    "    node.setisLeftChild(isLeftChild)\n",
    "    node.setisRoot(isRoot)\n",
    "    node.setAmount(Amount)\n",
    "    if(isLeaf):\n",
    "        node.setisLeaf()\n",
    "    return(node)\n",
    "\n",
    "def iTree(X, e, l, Length=0, isLeaf=False, splitAtt=None, splitValue=None, isLeftChild=None, isRoot=True, Amount=0):\n",
    "    if(e < l and len(X.index) > 1):\n",
    "        node = nodeInfo(X, Length, isLeaf, splitAtt, splitValue, isLeftChild, isRoot, Amount)\n",
    "        splitAtt = X.columns[random.randint(0, (len(X.columns)-1))]\n",
    "        minimum = min(X[splitAtt])\n",
    "        maximum = max(X[splitAtt])\n",
    "        while(minimum == maximum):\n",
    "            splitAtt = X.columns[random.randint(0, (len(X.columns)-1))]\n",
    "            minimum = min(X[splitAtt])\n",
    "            maximum = max(X[splitAtt])\n",
    "        splitValue = np.random.uniform(low=minimum, high=maximum)\n",
    "        Xl = X.loc[X[splitAtt]<=splitValue, :]\n",
    "        Xr = X.loc[X[splitAtt]>splitValue, :]\n",
    "        ee = e + 1\n",
    "        Amountl = len(Xl.index)\n",
    "        Child_left = iTree(X=Xl, e=ee, l=l, Length=ee, splitAtt=splitAtt, splitValue=splitValue, \n",
    "                           isLeftChild=True, isRoot=False, Amount=Amountl)\n",
    "        node.setChildren(Child_left)\n",
    "        Amountr = len(Xr.index)\n",
    "        Child_right = iTree(X=Xr, e=ee, l=l, Length=ee, splitAtt=splitAtt, splitValue=splitValue, \n",
    "                            isLeftChild=False, isRoot=False, Amount=Amountr)\n",
    "        node.setChildren(Child_right)\n",
    "    else:\n",
    "        Amount = len(X.index)\n",
    "        node = nodeInfo(X, Length, isLeaf=True, splitAtt=splitAtt, splitValue=splitValue, \n",
    "                        isLeftChild=isLeftChild, isRoot=isRoot, Amount=Amount)\n",
    "    return(node)\n",
    "        \n",
    "def printTree(node, depth = 0):\n",
    "    if not node.getisRoot():\n",
    "        x = node.getsplitAtt()\n",
    "        if node.getisLeftChild():\n",
    "            equality = \"<=\"\n",
    "        else:\n",
    "            equality = \">\"\n",
    "        threshold = \"%.6f\" % node.getsplitValue() # Six decimal\n",
    "        if node.getisLeaf():\n",
    "            print(depth * \"|\\t\" + \"%s %s %s [%d]: %s\" \\\n",
    "                                  % (node.getsplitAtt(), equality, threshold,\n",
    "                                     node.getAmount(), node.getLength()))\n",
    "        else:\n",
    "            print(depth * \"|\\t\" + \"%s %s %s [%d]\" \\\n",
    "                                  % (node.getsplitAtt(), equality, threshold,\n",
    "                                     node.getAmount()))\n",
    "        depth +=1\n",
    "    for child in node.getChildren():\n",
    "        printTree(child, depth)\n",
    "\n",
    "def PathLength(X, decisionTree, l):\n",
    "    prediction = None\n",
    "    if decisionTree.getisLeaf():\n",
    "        if decisionTree.getAmount()>1:\n",
    "            return(decisionTree.getLength() + myc(decisionTree.getAmount()))\n",
    "        else:\n",
    "            return(decisionTree.getLength())\n",
    "    for child in decisionTree.getChildren():\n",
    "        splitAtt = child.getsplitAtt()\n",
    "        splitValue = child.getsplitValue()\n",
    "        if child.getisLeftChild():\n",
    "            if X[splitAtt] <= splitValue:\n",
    "                prediction = PathLength(X, child, l)\n",
    "        else:\n",
    "            if X[splitAtt] > splitValue:\n",
    "                prediction = PathLength(X, child, l)\n",
    "    return(prediction)\n",
    "\n",
    "def AnomalyScore(x, n):\n",
    "    return(2**(-x/myc(n)))\n",
    "        \n",
    "def predict(dat, decisionTree, l):\n",
    "    numData = len(dat.index)\n",
    "    prediction = np.zeros(numData)\n",
    "    for i in range(numData):\n",
    "        instance = dat.iloc[i, :]\n",
    "        prediction[i] = PathLength(instance, decisionTree, l)\n",
    "    return prediction\n",
    "\n",
    "def mymse(pred, true):\n",
    "    diff = pred-true\n",
    "    y = [1 if a==1 else 400 if a==-1 else 0 for a in diff]\n",
    "    return(sum(y)/len(diff))\n",
    "\n"
   ]
  },
  {
   "cell_type": "code",
   "execution_count": 5,
   "metadata": {},
   "outputs": [],
   "source": [
    "dat = pd.read_csv('../data/dat1.csv')"
   ]
  },
  {
   "cell_type": "code",
   "execution_count": 28,
   "metadata": {},
   "outputs": [],
   "source": [
    "N = 10000"
   ]
  },
  {
   "cell_type": "code",
   "execution_count": 29,
   "metadata": {},
   "outputs": [
    {
     "name": "stdout",
     "output_type": "stream",
     "text": [
      "0123456789101112131415161718192021222324252627282930313233343536373839404142434445464748495051525354555657585960616263646566676869707172737475767778798081828384858687888990919293949596979899\n",
      "321.17461013793945\n",
      "1.4001\n"
     ]
    }
   ],
   "source": [
    "## start -------------------------------------------------\n",
    "\n",
    "t1 = time.time()\n",
    "phi = 256\n",
    "dat_use = dat.iloc[range(N), ]\n",
    "the_list = range(N)\n",
    "random.seed(1234)\n",
    "cishu = 100\n",
    "prediction = np.zeros(N)\n",
    "for i in range(cishu):\n",
    "    print(i, end=\"\")\n",
    "    train_index = random.sample(the_list, phi)\n",
    "    dat_train = dat_use.iloc[train_index, ]\n",
    "    X = dat_train.drop('Class', axis=1)\n",
    "    y = dat_train.Class\n",
    "    e=0\n",
    "    l=np.log2(len(X.index))\n",
    "    myTree = iTree(X, e, l)\n",
    "    prediction += predict(dat_use, myTree, l)\n",
    "    \n",
    "prediction_final = prediction/cishu\n",
    "\n",
    "t2 = time.time() \n",
    "print()\n",
    "print(t2 - t1)\n",
    "\n",
    "sh = 0.7\n",
    "result = AnomalyScore(prediction_final, phi)\n",
    "prediction_final2 = np.zeros(N)\n",
    "prediction_final2[np.where(result>sh)] = 1\n",
    "true_value = dat_use.Class\n",
    "MSE = mymse(prediction_final2, dat_use.Class)\n",
    "\n",
    "print(MSE)"
   ]
  },
  {
   "cell_type": "code",
   "execution_count": 30,
   "metadata": {},
   "outputs": [
    {
     "data": {
      "text/plain": [
       "1.52"
      ]
     },
     "execution_count": 30,
     "metadata": {},
     "output_type": "execute_result"
    }
   ],
   "source": [
    "true_limit = 400*sum(dat_use.Class)/len(dat_use.Class)\n",
    "true_limit"
   ]
  },
  {
   "cell_type": "code",
   "execution_count": 31,
   "metadata": {},
   "outputs": [],
   "source": [
    "mse_total.append(MSE)\n",
    "true_total.append(true_limit)"
   ]
  },
  {
   "cell_type": "code",
   "execution_count": 33,
   "metadata": {},
   "outputs": [
    {
     "name": "stdout",
     "output_type": "stream",
     "text": [
      "[0.0, 0.8, 0.4005, 0.2404, 1.4001]\n",
      "[0.0, 0.8, 0.4, 0.24, 1.52]\n"
     ]
    }
   ],
   "source": [
    "print(mse_total)\n",
    "print(true_total)"
   ]
  },
  {
   "cell_type": "code",
   "execution_count": 8,
   "metadata": {},
   "outputs": [],
   "source": [
    "mse_total = []\n",
    "true_total = []"
   ]
  },
  {
   "cell_type": "code",
   "execution_count": 63,
   "metadata": {},
   "outputs": [
    {
     "data": {
      "text/plain": [
       "0.00909"
      ]
     },
     "execution_count": 63,
     "metadata": {},
     "output_type": "execute_result"
    }
   ],
   "source": [
    "MSE"
   ]
  },
  {
   "cell_type": "code",
   "execution_count": null,
   "metadata": {},
   "outputs": [],
   "source": []
  }
 ],
 "metadata": {
  "kernelspec": {
   "display_name": "Python 3",
   "language": "python",
   "name": "python3"
  },
  "language_info": {
   "codemirror_mode": {
    "name": "ipython",
    "version": 3
   },
   "file_extension": ".py",
   "mimetype": "text/x-python",
   "name": "python",
   "nbconvert_exporter": "python",
   "pygments_lexer": "ipython3",
   "version": "3.6.5"
  }
 },
 "nbformat": 4,
 "nbformat_minor": 2
}
