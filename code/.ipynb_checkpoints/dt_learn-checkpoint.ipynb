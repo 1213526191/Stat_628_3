{
 "cells": [
  {
   "cell_type": "code",
   "execution_count": 1,
   "metadata": {},
   "outputs": [],
   "source": [
    "import numpy as np\n",
    "import pandas as pd\n",
    "from tree import decisionTreeNode\n",
    "import random\n",
    "import time"
   ]
  },
  {
   "cell_type": "code",
   "execution_count": 2,
   "metadata": {},
   "outputs": [],
   "source": [
    "def myc(x=0):\n",
    "    y = 2*(np.log(x-1) + 0.5772156649) -2*(x-1)/x\n",
    "    return(y)"
   ]
  },
  {
   "cell_type": "code",
   "execution_count": 3,
   "metadata": {},
   "outputs": [],
   "source": [
    "def nodeInfo(X, Length=0, isLeaf=False, splitAtt=None, splitValue=None, isLeftChild=None, isRoot=True, Amount=0):\n",
    "    node = decisionTreeNode()\n",
    "    node.setLength(Length)\n",
    "    node.setsplitAtt(splitAtt)\n",
    "    node.setsplitValue(splitValue)\n",
    "    node.setisLeftChild(isLeftChild)\n",
    "    node.setisRoot(isRoot)\n",
    "    node.setAmount(Amount)\n",
    "    if(isLeaf):\n",
    "        node.setisLeaf()\n",
    "    return(node)"
   ]
  },
  {
   "cell_type": "code",
   "execution_count": 4,
   "metadata": {},
   "outputs": [],
   "source": [
    "def iTree(X, e, l, Length=0, isLeaf=False, splitAtt=None, splitValue=None, isLeftChild=None, isRoot=True, Amount=0):\n",
    "    if(e < l and len(X.index) > 1):\n",
    "        node = nodeInfo(X, Length, isLeaf, splitAtt, splitValue, isLeftChild, isRoot, Amount)\n",
    "        splitAtt = X.columns[random.randint(0, (len(X.columns)-1))]\n",
    "        minimum = min(X[splitAtt])\n",
    "        maximum = max(X[splitAtt])\n",
    "        while(minimum == maximum):\n",
    "            splitAtt = X.columns[random.randint(0, (len(X.columns)-1))]\n",
    "            minimum = min(X[splitAtt])\n",
    "            maximum = max(X[splitAtt])\n",
    "        splitValue = np.random.uniform(low=minimum, high=maximum)\n",
    "        Xl = X.loc[X[splitAtt]<=splitValue, :]\n",
    "        Xr = X.loc[X[splitAtt]>splitValue, :]\n",
    "        ee = e + 1\n",
    "        Amountl = len(Xl.index)\n",
    "        Child_left = iTree(X=Xl, e=ee, l=l, Length=ee, splitAtt=splitAtt, splitValue=splitValue, \n",
    "                           isLeftChild=True, isRoot=False, Amount=Amountl)\n",
    "        node.setChildren(Child_left)\n",
    "        Amountr = len(Xr.index)\n",
    "        Child_right = iTree(X=Xr, e=ee, l=l, Length=ee, splitAtt=splitAtt, splitValue=splitValue, \n",
    "                            isLeftChild=False, isRoot=False, Amount=Amountr)\n",
    "        node.setChildren(Child_right)\n",
    "    else:\n",
    "        Amount = len(X.index)\n",
    "        node = nodeInfo(X, Length, isLeaf=True, splitAtt=splitAtt, splitValue=splitValue, \n",
    "                        isLeftChild=isLeftChild, isRoot=isRoot, Amount=Amount)\n",
    "    return(node)"
   ]
  },
  {
   "cell_type": "code",
   "execution_count": 5,
   "metadata": {},
   "outputs": [],
   "source": [
    "def printTree(node, depth = 0):\n",
    "    if not node.getisRoot():\n",
    "        x = node.getsplitAtt()\n",
    "        if node.getisLeftChild():\n",
    "            equality = \"<=\"\n",
    "        else:\n",
    "            equality = \">\"\n",
    "        threshold = \"%.6f\" % node.getsplitValue() # Six decimal\n",
    "        if node.getisLeaf():\n",
    "            print(depth * \"|\\t\" + \"%s %s %s [%d]: %s\" \\\n",
    "                                  % (node.getsplitAtt(), equality, threshold,\n",
    "                                     node.getAmount(), node.getLength()))\n",
    "        else:\n",
    "            print(depth * \"|\\t\" + \"%s %s %s [%d]\" \\\n",
    "                                  % (node.getsplitAtt(), equality, threshold,\n",
    "                                     node.getAmount()))\n",
    "        depth +=1\n",
    "    for child in node.getChildren():\n",
    "        printTree(child, depth)"
   ]
  },
  {
   "cell_type": "code",
   "execution_count": 43,
   "metadata": {},
   "outputs": [],
   "source": [
    "def PathLength(X, decisionTree, l):\n",
    "    prediction = None\n",
    "    if decisionTree.getisLeaf():\n",
    "        if decisionTree.getAmount()>1:\n",
    "            return(decisionTree.getLength() + myc(decisionTree.getAmount()))\n",
    "        else:\n",
    "            return(decisionTree.getLength())\n",
    "    for child in decisionTree.getChildren():\n",
    "        splitAtt = child.getsplitAtt()\n",
    "        splitValue = child.getsplitValue()\n",
    "        if child.getisLeftChild():\n",
    "            if X[splitAtt] <= splitValue:\n",
    "                prediction = PathLength(X, child, l)\n",
    "        else:\n",
    "            if X[splitAtt] > splitValue:\n",
    "                prediction = PathLength(X, child, l)\n",
    "    return(prediction)"
   ]
  },
  {
   "cell_type": "code",
   "execution_count": 44,
   "metadata": {},
   "outputs": [],
   "source": [
    "def AnomalyScore(x, n):\n",
    "    return(2**(-x/myc(n)))"
   ]
  },
  {
   "cell_type": "code",
   "execution_count": 96,
   "metadata": {},
   "outputs": [],
   "source": [
    "# def classify(X, decisionTree):\n",
    "#     prediction = None\n",
    "#     if decisionTree.getisLeaf():\n",
    "#         return(decisionTree.getLength() + myc(decisionTree.getAmount()))\n",
    "#     for child in decisionTree.getChildren():\n",
    "#         splitAtt = child.getsplitAtt()\n",
    "#         splitValue = child.getsplitValue()\n",
    "#         if child.getisLeftChild():\n",
    "#             if X[splitAtt] <= splitValue:\n",
    "#                 prediction = classify(X, child)\n",
    "#         else:\n",
    "#             if X[splitAtt] > splitValue:\n",
    "#                 prediction = classify(X, child)\n",
    "#     return(prediction)"
   ]
  },
  {
   "cell_type": "code",
   "execution_count": 6,
   "metadata": {},
   "outputs": [],
   "source": [
    "# def predict(train, test, decisionTree):\n",
    "#     numData = len(train.index)\n",
    "#     prediction = np.zeros(numData)\n",
    "#     for i in range(numData):\n",
    "#         instance = train.loc[i, :]\n",
    "#         prediction[i] = classify(instance, decisionTree)\n",
    "#     pred_y = classify(test, decisionTree)\n",
    "#     return prediction, pred_y"
   ]
  },
  {
   "cell_type": "code",
   "execution_count": 41,
   "metadata": {},
   "outputs": [],
   "source": [
    "def predict(dat, decisionTree, l):\n",
    "    numData = len(dat.index)\n",
    "    prediction = np.zeros(numData)\n",
    "    for i in range(numData):\n",
    "        instance = dat.iloc[i, :]\n",
    "        prediction[i] = PathLength(instance, decisionTree, l)\n",
    "    return prediction"
   ]
  },
  {
   "cell_type": "code",
   "execution_count": 29,
   "metadata": {},
   "outputs": [],
   "source": [
    "# dat = pd.read_csv('../data/dat1.csv')\n",
    "# FF = np.where(dat.Class==1)\n",
    "# Row1 = np.arange(1000)\n",
    "# Row = np.append(Row1, FF[0][2])\n",
    "# dat_test = dat.loc[Row, :]\n",
    "# X = dat_test.drop('Class', axis=1)\n",
    "# e=0\n",
    "# l=np.log2(len(X.index))\n",
    "# myTree = iTree(X, e, l)\n",
    "# printTree(myTree)\n",
    "# classify(X=dat_test.loc[8,], decisionTree=myTree, l=l)"
   ]
  },
  {
   "cell_type": "code",
   "execution_count": 55,
   "metadata": {},
   "outputs": [],
   "source": [
    "dat = pd.read_csv('../data/dat1.csv')"
   ]
  },
  {
   "cell_type": "code",
   "execution_count": 81,
   "metadata": {},
   "outputs": [
    {
     "name": "stdout",
     "output_type": "stream",
     "text": [
      "0123456789101112131415161718192021222324252627282930313233343536373839404142434445464748495051525354555657585960616263646566676869707172737475767778798081828384858687888990919293949596979899"
     ]
    },
    {
     "data": {
      "text/plain": [
       "360.80669808387756"
      ]
     },
     "execution_count": 81,
     "metadata": {},
     "output_type": "execute_result"
    }
   ],
   "source": [
    "t1 = time.time()\n",
    "phi = 256\n",
    "N = 11000\n",
    "dat_use = dat.iloc[range(N), ]\n",
    "the_list = range(N)\n",
    "random.seed(1234)\n",
    "cishu = 100\n",
    "prediction = np.zeros(N)\n",
    "for i in range(cishu):\n",
    "    print(i, end=\"\")\n",
    "    train_index = random.sample(the_list, phi)\n",
    "    dat_train = dat_use.iloc[train_index, ]\n",
    "    X = dat_train.drop('Class', axis=1)\n",
    "    y = dat_train.Class\n",
    "    e=0\n",
    "    l=np.log2(len(X.index))\n",
    "    myTree = iTree(X, e, l)\n",
    "    prediction += predict(dat_use, myTree, l)\n",
    "prediction_final = prediction/cishu\n",
    "\n",
    "t2 = time.time() \n",
    "t2 - t1"
   ]
  },
  {
   "cell_type": "code",
   "execution_count": 82,
   "metadata": {},
   "outputs": [
    {
     "data": {
      "text/plain": [
       "array([0.40414239, 0.37312089, 0.48809006, ..., 0.41981242, 0.37913399,\n",
       "       0.43975248])"
      ]
     },
     "execution_count": 82,
     "metadata": {},
     "output_type": "execute_result"
    }
   ],
   "source": [
    "result = AnomalyScore(prediction_final, phi)\n",
    "result"
   ]
  },
  {
   "cell_type": "code",
   "execution_count": 86,
   "metadata": {},
   "outputs": [
    {
     "data": {
      "text/plain": [
       "array([   85,   140,   146,   164,   174,   225,   290,   362,   370,\n",
       "         401,   455,   601,   865,  1086,  1158,  1281,  1388,  1608,\n",
       "        1632,  1722,  1830,  1856,  2016,  2059,  2178,  2182,  2186,\n",
       "        2234,  2277,  2453,  2457,  2464,  2622,  2629,  2677,  2682,\n",
       "        2792,  2897,  2951,  2954,  2956,  2957,  2963,  3443,  3509,\n",
       "        3547,  3554,  3602,  3771,  4235,  4608,  4740,  4776,  4810,\n",
       "        4895,  4898,  4926,  5257,  5296,  5371,  5425,  5504,  5526,\n",
       "        5534,  5535,  5652,  5715,  5791,  5797,  5827,  5888,  5916,\n",
       "        6095,  6108,  6223,  6300,  6305,  6306,  6329,  6330,  6331,\n",
       "        6334,  6336,  6338,  6410,  6411,  6412,  6413,  6427,  6446,\n",
       "        6462,  6472,  6501,  6529,  6549,  6609,  6624,  6633,  6641,\n",
       "        6692,  6717,  6719,  6734,  6774,  6783,  6812,  6820,  6870,\n",
       "        6882,  6899,  6903,  6905,  6940,  6971,  7029,  7080,  7081,\n",
       "        7090,  7100,  7103,  7104,  7144,  7255,  7277,  7389,  7420,\n",
       "        7469,  7485,  7486,  7522,  7523,  7570,  7578,  7580,  7600,\n",
       "        7609,  7616,  7617,  7675,  7743,  7744,  8089,  8296,  8312,\n",
       "        8335,  8447,  8464,  8480,  8610,  8615,  8617,  8625,  8781,\n",
       "        8802,  8820,  8842,  8845,  8855,  8972,  9026,  9027,  9028,\n",
       "        9029,  9035,  9044,  9119,  9179,  9252,  9258,  9337,  9347,\n",
       "        9487,  9489,  9509,  9512,  9563,  9732,  9800,  9895, 10036,\n",
       "       10046, 10115, 10116, 10131, 10146, 10201, 10204, 10206, 10232,\n",
       "       10264, 10456, 10501, 10535, 10567, 10568, 10573, 10582, 10584,\n",
       "       10607, 10620, 10630, 10644, 10681, 10690, 10783, 10801, 10804,\n",
       "       10870, 10891, 10897, 10900, 10906, 10913, 10914, 10964])"
      ]
     },
     "execution_count": 86,
     "metadata": {},
     "output_type": "execute_result"
    }
   ],
   "source": [
    "np.where(result>0.55)[0]"
   ]
  },
  {
   "cell_type": "code",
   "execution_count": 85,
   "metadata": {},
   "outputs": [
    {
     "data": {
      "text/plain": [
       "array([  541,   623,  4920,  6108,  6329,  6331,  6334,  6336,  6338,\n",
       "        6427,  6446,  6472,  6529,  6609,  6641,  6717,  6719,  6734,\n",
       "        6774,  6820,  6870,  6882,  6899,  6903,  6971,  8296,  8312,\n",
       "        8335,  8615,  8617,  8842,  8845,  8972,  9035,  9179,  9252,\n",
       "        9487,  9509, 10204, 10484, 10497, 10498, 10568, 10630, 10690,\n",
       "       10801, 10891, 10897])"
      ]
     },
     "execution_count": 85,
     "metadata": {},
     "output_type": "execute_result"
    }
   ],
   "source": [
    "np.where(dat_use.Class==1)[0]"
   ]
  },
  {
   "cell_type": "code",
   "execution_count": 161,
   "metadata": {},
   "outputs": [
    {
     "data": {
      "text/plain": [
       "29.19114398956299"
      ]
     },
     "execution_count": 161,
     "metadata": {},
     "output_type": "execute_result"
    }
   ],
   "source": [
    "t1 = time.time()\n",
    "N = 50000\n",
    "dat_train = dat.loc[:N, ]\n",
    "X = dat_train.drop('Class', axis=1)\n",
    "y = dat_train.Class\n",
    "e=0\n",
    "l=np.log2(len(X.index))\n",
    "myTree = iTree(X, e, l)\n",
    "prediction = predict(dat_train, myTree, l)\n",
    "t2 = time.time() \n",
    "t2 - t1"
   ]
  },
  {
   "cell_type": "code",
   "execution_count": 166,
   "metadata": {},
   "outputs": [
    {
     "data": {
      "text/plain": [
       "array([  164,   472,   480,   541,   568,   723,  1261,  1480,  1624,\n",
       "        1632,  2178,  2951,  2954,  2957,  2963,  3099,  3285,  3330,\n",
       "        3811,  3828,  4840,  4895,  4932,  5322,  5425,  5729,  6057,\n",
       "        6329,  6331,  6334,  6336,  6338,  6506,  6529,  6609,  6641,\n",
       "        6684,  6717,  6719,  6743,  6783,  6812,  6820,  6870,  6899,\n",
       "        6903,  6971,  7100,  7469,  7617,  8311,  8610,  9950, 10201,\n",
       "       10232, 10630, 10690, 11258, 12832, 12851, 13616, 13768, 13796,\n",
       "       13876, 15274, 15386, 16301, 17746, 18570, 18633, 18907, 19760,\n",
       "       19943, 19962, 19985, 20260, 20417, 20418, 20419, 20420, 20829,\n",
       "       22031, 23128, 23288, 23876, 24160, 24163, 25302, 26060, 27101,\n",
       "       27648, 29947, 30551, 31799, 32359, 32949, 33846, 34077, 34658,\n",
       "       35001, 35766, 37000, 38798, 39769, 39973, 40700, 41780, 42294,\n",
       "       42512, 43116, 43159, 43372, 44223, 44282, 44432, 44513, 44947,\n",
       "       45446, 45757, 45774, 46497, 46505, 46790, 46841, 46909, 47743,\n",
       "       48011, 48529, 48955, 49054])"
      ]
     },
     "execution_count": 166,
     "metadata": {},
     "output_type": "execute_result"
    }
   ],
   "source": [
    "np.where(prediction>0.15)[0]"
   ]
  },
  {
   "cell_type": "code",
   "execution_count": 160,
   "metadata": {},
   "outputs": [
    {
     "data": {
      "text/plain": [
       "array([   541,    623,   4920,   6108,   6329,   6331,   6334,   6336,\n",
       "         6338,   6427,   6446,   6472,   6529,   6609,   6641,   6717,\n",
       "         6719,   6734,   6774,   6820,   6870,   6882,   6899,   6903,\n",
       "         6971,   8296,   8312,   8335,   8615,   8617,   8842,   8845,\n",
       "         8972,   9035,   9179,   9252,   9487,   9509,  10204,  10484,\n",
       "        10497,  10498,  10568,  10630,  10690,  10801,  10891,  10897,\n",
       "        11343,  11710,  11841,  11880,  12070,  12108,  12261,  12369,\n",
       "        14104,  14170,  14197,  14211,  14338,  15166,  15204,  15225,\n",
       "        15451,  15476,  15506,  15539,  15566,  15736,  15751,  15781,\n",
       "        15810,  16415,  16780,  16863,  17317,  17366,  17407,  17453,\n",
       "        17480,  18466,  18472,  18773,  18809,  20198,  23308,  23422,\n",
       "        26802,  27362,  27627,  27738,  27749,  29687,  30100,  30314,\n",
       "        30384,  30398,  30442,  30473,  30496,  31002,  33276,  39183,\n",
       "        40085,  40525,  41395,  41569,  41943,  42007,  42009,  42473,\n",
       "        42528,  42549,  42590,  42609,  42635,  42674,  42696,  42700,\n",
       "        42741,  42756,  42769,  42784,  42856,  42887,  42936,  42945,\n",
       "        42958,  43061,  43160,  43204,  43428,  43624,  43681,  43773,\n",
       "        44001,  44091,  44223,  44270,  44556,  45203,  45732,  46909,\n",
       "        46918,  46998,  47802,  48094,  50211,  50537,  52466,  52521,\n",
       "        52584,  53591,  53794,  55401,  56703,  57248,  57470,  57615,\n",
       "        58422,  58761,  59539,  61787,  63421,  63634,  64329,  64411,\n",
       "        64460,  68067,  68320,  68522,  68633,  69498,  69980,  70141,\n",
       "        70589,  72757,  73784,  73857,  74496,  74507,  74794,  75511,\n",
       "        76555,  76609,  76929,  77099,  77348,  77387,  77682,  79525,\n",
       "        79536,  79835,  79874,  79883,  80760,  81186,  81609,  82400,\n",
       "        83053,  83297,  83417,  84543,  86155,  87354,  88258,  88307,\n",
       "        88876,  88897,  89190,  91671,  92777,  93424,  93486,  93788,\n",
       "        94218,  95534,  95597,  96341,  96789,  96994,  99506, 100623,\n",
       "       101509, 102441, 102442, 102443, 102444, 102445, 102446, 102782,\n",
       "       105178, 106679, 106998, 107067, 107637, 108258, 108708, 111690,\n",
       "       112840, 114271, 116139, 116404, 118308, 119714, 119781, 120505,\n",
       "       120837, 122479, 123141, 123201, 123238, 123270, 123301, 124036,\n",
       "       124087, 124115, 124176, 125342, 128479, 131272, 135718, 137705,\n",
       "       140786, 141257, 141258, 141259, 141260])"
      ]
     },
     "execution_count": 160,
     "metadata": {},
     "output_type": "execute_result"
    }
   ],
   "source": [
    "np.where(dat.Class==1)[0]"
   ]
  },
  {
   "cell_type": "code",
   "execution_count": 146,
   "metadata": {},
   "outputs": [
    {
     "data": {
      "text/plain": [
       "2.2440760135650635"
      ]
     },
     "execution_count": 146,
     "metadata": {},
     "output_type": "execute_result"
    }
   ],
   "source": [
    "t1 = time.time()\n",
    "\n",
    "prediction = np.zeros(n_end-n_start)\n",
    "for ii in range(n_start, n_end) :\n",
    "    dat_train = dat.loc[:ii, ]\n",
    "    dat_test = dat.loc[ii+1, ]\n",
    "    X = dat_train.drop('Class', axis=1)\n",
    "    e=0\n",
    "    l=np.log2(len(X.index))\n",
    "    myTree = iTree(X, e, l)\n",
    "    prediction[ii-n_start] = classify(dat_test, myTree, l)\n",
    "t2 = time.time() \n",
    "t2 - t1"
   ]
  },
  {
   "cell_type": "code",
   "execution_count": 147,
   "metadata": {},
   "outputs": [
    {
     "data": {
      "text/plain": [
       "array([], dtype=int64)"
      ]
     },
     "execution_count": 147,
     "metadata": {},
     "output_type": "execute_result"
    }
   ],
   "source": [
    "np.where(prediction>0.5)[0] + n_start + 1"
   ]
  },
  {
   "cell_type": "code",
   "execution_count": 148,
   "metadata": {},
   "outputs": [
    {
     "data": {
      "text/plain": [
       "array([0.25466866, 0.05664236, 0.07448308, 0.17244307, 0.01750793,\n",
       "       0.03723531, 0.17259744, 0.17264867, 0.17269978, 0.08382089,\n",
       "       0.02718494, 0.13800413, 0.02158873, 0.02854046, 0.06602584,\n",
       "       0.02687576, 0.21034936, 0.01874854, 0.02231995, 0.09062555])"
      ]
     },
     "execution_count": 148,
     "metadata": {},
     "output_type": "execute_result"
    }
   ],
   "source": [
    "prediction"
   ]
  },
  {
   "cell_type": "code",
   "execution_count": 140,
   "metadata": {},
   "outputs": [
    {
     "data": {
      "text/plain": [
       "array([   541,    623,   4920,   6108,   6329,   6331,   6334,   6336,\n",
       "         6338,   6427,   6446,   6472,   6529,   6609,   6641,   6717,\n",
       "         6719,   6734,   6774,   6820,   6870,   6882,   6899,   6903,\n",
       "         6971,   8296,   8312,   8335,   8615,   8617,   8842,   8845,\n",
       "         8972,   9035,   9179,   9252,   9487,   9509,  10204,  10484,\n",
       "        10497,  10498,  10568,  10630,  10690,  10801,  10891,  10897,\n",
       "        11343,  11710,  11841,  11880,  12070,  12108,  12261,  12369,\n",
       "        14104,  14170,  14197,  14211,  14338,  15166,  15204,  15225,\n",
       "        15451,  15476,  15506,  15539,  15566,  15736,  15751,  15781,\n",
       "        15810,  16415,  16780,  16863,  17317,  17366,  17407,  17453,\n",
       "        17480,  18466,  18472,  18773,  18809,  20198,  23308,  23422,\n",
       "        26802,  27362,  27627,  27738,  27749,  29687,  30100,  30314,\n",
       "        30384,  30398,  30442,  30473,  30496,  31002,  33276,  39183,\n",
       "        40085,  40525,  41395,  41569,  41943,  42007,  42009,  42473,\n",
       "        42528,  42549,  42590,  42609,  42635,  42674,  42696,  42700,\n",
       "        42741,  42756,  42769,  42784,  42856,  42887,  42936,  42945,\n",
       "        42958,  43061,  43160,  43204,  43428,  43624,  43681,  43773,\n",
       "        44001,  44091,  44223,  44270,  44556,  45203,  45732,  46909,\n",
       "        46918,  46998,  47802,  48094,  50211,  50537,  52466,  52521,\n",
       "        52584,  53591,  53794,  55401,  56703,  57248,  57470,  57615,\n",
       "        58422,  58761,  59539,  61787,  63421,  63634,  64329,  64411,\n",
       "        64460,  68067,  68320,  68522,  68633,  69498,  69980,  70141,\n",
       "        70589,  72757,  73784,  73857,  74496,  74507,  74794,  75511,\n",
       "        76555,  76609,  76929,  77099,  77348,  77387,  77682,  79525,\n",
       "        79536,  79835,  79874,  79883,  80760,  81186,  81609,  82400,\n",
       "        83053,  83297,  83417,  84543,  86155,  87354,  88258,  88307,\n",
       "        88876,  88897,  89190,  91671,  92777,  93424,  93486,  93788,\n",
       "        94218,  95534,  95597,  96341,  96789,  96994,  99506, 100623,\n",
       "       101509, 102441, 102442, 102443, 102444, 102445, 102446, 102782,\n",
       "       105178, 106679, 106998, 107067, 107637, 108258, 108708, 111690,\n",
       "       112840, 114271, 116139, 116404, 118308, 119714, 119781, 120505,\n",
       "       120837, 122479, 123141, 123201, 123238, 123270, 123301, 124036,\n",
       "       124087, 124115, 124176, 125342, 128479, 131272, 135718, 137705,\n",
       "       140786, 141257, 141258, 141259, 141260])"
      ]
     },
     "execution_count": 140,
     "metadata": {},
     "output_type": "execute_result"
    }
   ],
   "source": [
    "np.where(dat.Class==1)[0]\n",
    "# np.where(dat.Class==1)[0]-n_start-1"
   ]
  },
  {
   "cell_type": "code",
   "execution_count": 133,
   "metadata": {},
   "outputs": [],
   "source": [
    "x = np.array([1,2,3])"
   ]
  },
  {
   "cell_type": "code",
   "execution_count": 134,
   "metadata": {},
   "outputs": [
    {
     "data": {
      "text/plain": [
       "(array([1]),)"
      ]
     },
     "execution_count": 134,
     "metadata": {},
     "output_type": "execute_result"
    }
   ],
   "source": [
    "np.where(x==2)"
   ]
  },
  {
   "cell_type": "code",
   "execution_count": null,
   "metadata": {},
   "outputs": [],
   "source": []
  }
 ],
 "metadata": {
  "kernelspec": {
   "display_name": "Python 3",
   "language": "python",
   "name": "python3"
  },
  "language_info": {
   "codemirror_mode": {
    "name": "ipython",
    "version": 3
   },
   "file_extension": ".py",
   "mimetype": "text/x-python",
   "name": "python",
   "nbconvert_exporter": "python",
   "pygments_lexer": "ipython3",
   "version": "3.6.5"
  }
 },
 "nbformat": 4,
 "nbformat_minor": 2
}
