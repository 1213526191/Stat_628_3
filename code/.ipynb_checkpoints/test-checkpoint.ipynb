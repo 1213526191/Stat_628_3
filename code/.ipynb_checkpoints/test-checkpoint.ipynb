{
 "cells": [
  {
   "cell_type": "code",
   "execution_count": 1,
   "metadata": {},
   "outputs": [],
   "source": [
    "import numpy as np\n",
    "import pandas as pd\n",
    "from tree import decisionTreeNode\n",
    "import random"
   ]
  },
  {
   "cell_type": "code",
   "execution_count": 2,
   "metadata": {},
   "outputs": [],
   "source": [
    "dat = pd.read_csv('../data/dat1.csv')"
   ]
  },
  {
   "cell_type": "code",
   "execution_count": 117,
   "metadata": {},
   "outputs": [
    {
     "name": "stdout",
     "output_type": "stream",
     "text": [
      "142404\n",
      "(array([   541,    623,   4920,   6108,   6329,   6331,   6334,   6336,\n",
      "         6338,   6427,   6446,   6472,   6529,   6609,   6641,   6717,\n",
      "         6719,   6734,   6774,   6820,   6870,   6882,   6899,   6903,\n",
      "         6971,   8296,   8312,   8335,   8615,   8617,   8842,   8845,\n",
      "         8972,   9035,   9179,   9252,   9487,   9509,  10204,  10484,\n",
      "        10497,  10498,  10568,  10630,  10690,  10801,  10891,  10897,\n",
      "        11343,  11710,  11841,  11880,  12070,  12108,  12261,  12369,\n",
      "        14104,  14170,  14197,  14211,  14338,  15166,  15204,  15225,\n",
      "        15451,  15476,  15506,  15539,  15566,  15736,  15751,  15781,\n",
      "        15810,  16415,  16780,  16863,  17317,  17366,  17407,  17453,\n",
      "        17480,  18466,  18472,  18773,  18809,  20198,  23308,  23422,\n",
      "        26802,  27362,  27627,  27738,  27749,  29687,  30100,  30314,\n",
      "        30384,  30398,  30442,  30473,  30496,  31002,  33276,  39183,\n",
      "        40085,  40525,  41395,  41569,  41943,  42007,  42009,  42473,\n",
      "        42528,  42549,  42590,  42609,  42635,  42674,  42696,  42700,\n",
      "        42741,  42756,  42769,  42784,  42856,  42887,  42936,  42945,\n",
      "        42958,  43061,  43160,  43204,  43428,  43624,  43681,  43773,\n",
      "        44001,  44091,  44223,  44270,  44556,  45203,  45732,  46909,\n",
      "        46918,  46998,  47802,  48094,  50211,  50537,  52466,  52521,\n",
      "        52584,  53591,  53794,  55401,  56703,  57248,  57470,  57615,\n",
      "        58422,  58761,  59539,  61787,  63421,  63634,  64329,  64411,\n",
      "        64460,  68067,  68320,  68522,  68633,  69498,  69980,  70141,\n",
      "        70589,  72757,  73784,  73857,  74496,  74507,  74794,  75511,\n",
      "        76555,  76609,  76929,  77099,  77348,  77387,  77682,  79525,\n",
      "        79536,  79835,  79874,  79883,  80760,  81186,  81609,  82400,\n",
      "        83053,  83297,  83417,  84543,  86155,  87354,  88258,  88307,\n",
      "        88876,  88897,  89190,  91671,  92777,  93424,  93486,  93788,\n",
      "        94218,  95534,  95597,  96341,  96789,  96994,  99506, 100623,\n",
      "       101509, 102441, 102442, 102443, 102444, 102445, 102446, 102782,\n",
      "       105178, 106679, 106998, 107067, 107637, 108258, 108708, 111690,\n",
      "       112840, 114271, 116139, 116404, 118308, 119714, 119781, 120505,\n",
      "       120837, 122479, 123141, 123201, 123238, 123270, 123301, 124036,\n",
      "       124087, 124115, 124176, 125342, 128479, 131272, 135718, 137705,\n",
      "       140786, 141257, 141258, 141259, 141260]),)\n"
     ]
    }
   ],
   "source": [
    "ff = np.where(dat.Class == 1)\n",
    "print(len(dat.index))\n",
    "print(ff)\n"
   ]
  },
  {
   "cell_type": "code",
   "execution_count": 118,
   "metadata": {},
   "outputs": [],
   "source": [
    "n = 20000\n",
    "nn = 40525\n",
    "dat_train = dat.loc[:n, :]\n",
    "dat_test = dat.loc[nn, :]"
   ]
  },
  {
   "cell_type": "code",
   "execution_count": 119,
   "metadata": {},
   "outputs": [],
   "source": [
    "X = dat_train.drop('Class', axis=1)\n",
    "e=0\n",
    "l=np.log2(len(X.index))\n",
    "# X"
   ]
  },
  {
   "cell_type": "code",
   "execution_count": 120,
   "metadata": {},
   "outputs": [],
   "source": [
    "def nodeInfo(X, Length=0, isLeaf=False, splitAtt=None, splitValue=None, isLeftChild=None, isRoot=True, Amount=0):\n",
    "    node = decisionTreeNode()\n",
    "    node.setLength(Length)\n",
    "    node.setsplitAtt(splitAtt)\n",
    "    node.setsplitValue(splitValue)\n",
    "    node.setisLeftChild(isLeftChild)\n",
    "    node.setisRoot(isRoot)\n",
    "    node.setAmount(Amount)\n",
    "    if(isLeaf):\n",
    "        node.setisLeaf()\n",
    "    return(node)"
   ]
  },
  {
   "cell_type": "code",
   "execution_count": 121,
   "metadata": {},
   "outputs": [],
   "source": [
    "def iTree(X, e, l, Length=0, isLeaf=False, splitAtt=None, splitValue=None, isLeftChild=None, isRoot=True, Amount=0):\n",
    "    if(e < l and len(X.index) > 1):\n",
    "        node = nodeInfo(X, Length, isLeaf, splitAtt, splitValue, isLeftChild, isRoot, Amount)\n",
    "        splitAtt = X.columns[random.randint(0, (len(X.columns)-1))]\n",
    "        minimum = min(X[splitAtt])\n",
    "        maximum = max(X[splitAtt])\n",
    "        while(minimum == maximum):\n",
    "            splitAtt = X.columns[random.randint(0, (len(X.columns)-1))]\n",
    "            minimum = min(X[splitAtt])\n",
    "            maximum = max(X[splitAtt])\n",
    "        splitValue = np.random.uniform(low=minimum, high=maximum)\n",
    "        Xl = X.loc[X[splitAtt]<=splitValue, :]\n",
    "        Xr = X.loc[X[splitAtt]>splitValue, :]\n",
    "        ee = e + 1\n",
    "        Amountl = len(Xl.index)\n",
    "        Child_left = iTree(X=Xl, e=ee, l=l, Length=ee, splitAtt=splitAtt, splitValue=splitValue, \n",
    "                           isLeftChild=True, isRoot=False, Amount=Amountl)\n",
    "        node.setChildren(Child_left)\n",
    "        Amountr = len(Xr.index)\n",
    "        Child_right = iTree(X=Xr, e=ee, l=l, Length=ee, splitAtt=splitAtt, splitValue=splitValue, \n",
    "                            isLeftChild=False, isRoot=False, Amount=Amountr)\n",
    "        node.setChildren(Child_right)\n",
    "    else:\n",
    "        Amounta = len(X.index)\n",
    "        node = nodeInfo(X, Length, isLeaf=True, splitAtt=splitAtt, splitValue=splitValue, \n",
    "                        isLeftChild=isLeftChild, isRoot=isRoot, Amount=Amounta)\n",
    "    return(node)\n",
    "        \n",
    "        "
   ]
  },
  {
   "cell_type": "code",
   "execution_count": 122,
   "metadata": {},
   "outputs": [],
   "source": [
    "def printTree(node, depth = 0):\n",
    "    if not node.getisRoot():\n",
    "        x = node.getsplitAtt()\n",
    "        if node.getisLeftChild():\n",
    "            equality = \"<=\"\n",
    "        else:\n",
    "            equality = \">\"\n",
    "        threshold = \"%.6f\" % node.getsplitValue() # Six decimal\n",
    "        if node.getisLeaf():\n",
    "            print(depth * \"|\\t\" + \"%s %s %s [%d]: %s\" \\\n",
    "                                  % (node.getsplitAtt(), equality, threshold,\n",
    "                                     node.getAmount(), node.getLength()))\n",
    "        else:\n",
    "            print(depth * \"|\\t\" + \"%s %s %s [%d]\" \\\n",
    "                                  % (node.getsplitAtt(), equality, threshold,\n",
    "                                     node.getAmount()))\n",
    "        depth +=1\n",
    "    for child in node.getChildren():\n",
    "        printTree(child, depth)"
   ]
  },
  {
   "cell_type": "code",
   "execution_count": 123,
   "metadata": {},
   "outputs": [
    {
     "name": "stdout",
     "output_type": "stream",
     "text": [
      "CPU times: user 414 ms, sys: 33.9 ms, total: 448 ms\n",
      "Wall time: 449 ms\n"
     ]
    }
   ],
   "source": [
    "%time mytree = iTree(X,e,l)"
   ]
  },
  {
   "cell_type": "code",
   "execution_count": 124,
   "metadata": {},
   "outputs": [],
   "source": [
    "# printTree(mytree)"
   ]
  },
  {
   "cell_type": "code",
   "execution_count": 125,
   "metadata": {},
   "outputs": [
    {
     "data": {
      "text/plain": [
       "14.287784512498185"
      ]
     },
     "execution_count": 125,
     "metadata": {},
     "output_type": "execute_result"
    }
   ],
   "source": [
    "l"
   ]
  },
  {
   "cell_type": "code",
   "execution_count": 126,
   "metadata": {},
   "outputs": [],
   "source": [
    "def classify(X, decisionTree):\n",
    "    prediction = None\n",
    "    if decisionTree.getisLeaf():\n",
    "        return(decisionTree.getLength() + decisionTree.getAmount())\n",
    "    for child in decisionTree.getChildren():\n",
    "        splitAtt = child.getsplitAtt()\n",
    "        splitValue = child.getsplitValue()\n",
    "        if child.getisLeftChild():\n",
    "            if X[splitAtt] <= splitValue:\n",
    "                prediction = classify(X, child)\n",
    "        else:\n",
    "            if X[splitAtt] > splitValue:\n",
    "                prediction = classify(X, child)\n",
    "    return(prediction)\n",
    "        "
   ]
  },
  {
   "cell_type": "code",
   "execution_count": 129,
   "metadata": {},
   "outputs": [],
   "source": [
    "def predict(train, test, decisionTree):\n",
    "    numData = len(train.index)\n",
    "    prediction = np.zeros(numData)\n",
    "    for i in range(numData):\n",
    "        instance = train.loc[i, :]\n",
    "        prediction[i] = classify(instance, decisionTree)\n",
    "    pred_y = classify(test, decisionTree)\n",
    "    return prediction, pred_y"
   ]
  },
  {
   "cell_type": "code",
   "execution_count": 130,
   "metadata": {},
   "outputs": [
    {
     "name": "stdout",
     "output_type": "stream",
     "text": [
      "CPU times: user 9.23 s, sys: 34.3 ms, total: 9.27 s\n",
      "Wall time: 9.44 s\n"
     ]
    }
   ],
   "source": [
    "%time prediction, pred_y = predict(dat_train, dat_test, mytree)"
   ]
  },
  {
   "cell_type": "code",
   "execution_count": 133,
   "metadata": {},
   "outputs": [
    {
     "data": {
      "text/plain": [
       "0.0143992800359982"
      ]
     },
     "execution_count": 133,
     "metadata": {},
     "output_type": "execute_result"
    }
   ],
   "source": [
    "sum(prediction <= pred_y)/len(prediction)"
   ]
  },
  {
   "cell_type": "code",
   "execution_count": 132,
   "metadata": {},
   "outputs": [
    {
     "data": {
      "text/plain": [
       "0.004249787510624469"
      ]
     },
     "execution_count": 132,
     "metadata": {},
     "output_type": "execute_result"
    }
   ],
   "source": [
    "sum(dat_train.Class)/len(dat_train.index)"
   ]
  },
  {
   "cell_type": "code",
   "execution_count": 29,
   "metadata": {},
   "outputs": [
    {
     "data": {
      "text/plain": [
       "2.584962500721156"
      ]
     },
     "execution_count": 29,
     "metadata": {},
     "output_type": "execute_result"
    }
   ],
   "source": [
    "node=mytree\n",
    "node.getisRoot()\n",
    "child=node.getChildren()[0]\n",
    "node=child\n",
    "node.getisRoot()\n",
    "node.getsplitAtt()\n",
    "node.getLength()\n",
    "node.getisLeftChild()"
   ]
  },
  {
   "cell_type": "code",
   "execution_count": 8,
   "metadata": {},
   "outputs": [],
   "source": [
    "node = nodeInfo(X)\n",
    "splitAtt = X.columns[random.randint(0, (len(X.columns)-1))]\n",
    "minimum = min(X[splitAtt])\n",
    "maximum = max(X[splitAtt])\n",
    "while(minimum == maximum):\n",
    "    splitAtt = X.columns[random.randint(0, (len(X.columns)-1))]\n",
    "    minimum = min(X[splitAtt])\n",
    "    maximum = max(X[splitAtt])\n",
    "splitValue = np.random.uniform(low=minimum, high=maximum)\n",
    "Xl = X.loc[X[splitAtt]<=splitValue, :]\n",
    "Xr = X.loc[X[splitAtt]>splitValue, :]\n",
    "ee = e + 1\n",
    "node.setLength(e)\n",
    "node.setsplitAtt(splitAtt)\n",
    "node.setsplitValue(splitValue)"
   ]
  },
  {
   "cell_type": "code",
   "execution_count": 14,
   "metadata": {},
   "outputs": [
    {
     "data": {
      "text/html": [
       "<div>\n",
       "<style scoped>\n",
       "    .dataframe tbody tr th:only-of-type {\n",
       "        vertical-align: middle;\n",
       "    }\n",
       "\n",
       "    .dataframe tbody tr th {\n",
       "        vertical-align: top;\n",
       "    }\n",
       "\n",
       "    .dataframe thead th {\n",
       "        text-align: right;\n",
       "    }\n",
       "</style>\n",
       "<table border=\"1\" class=\"dataframe\">\n",
       "  <thead>\n",
       "    <tr style=\"text-align: right;\">\n",
       "      <th></th>\n",
       "      <th>Time</th>\n",
       "      <th>V1</th>\n",
       "      <th>V2</th>\n",
       "      <th>V10</th>\n",
       "      <th>Amount</th>\n",
       "    </tr>\n",
       "  </thead>\n",
       "  <tbody>\n",
       "    <tr>\n",
       "      <th>0</th>\n",
       "      <td>0.0</td>\n",
       "      <td>-1.359807</td>\n",
       "      <td>-0.072781</td>\n",
       "      <td>0.090794</td>\n",
       "      <td>149.62</td>\n",
       "    </tr>\n",
       "    <tr>\n",
       "      <th>2</th>\n",
       "      <td>1.0</td>\n",
       "      <td>-1.358354</td>\n",
       "      <td>-1.340163</td>\n",
       "      <td>0.207643</td>\n",
       "      <td>378.66</td>\n",
       "    </tr>\n",
       "    <tr>\n",
       "      <th>3</th>\n",
       "      <td>1.0</td>\n",
       "      <td>-0.966272</td>\n",
       "      <td>-0.185226</td>\n",
       "      <td>-0.054952</td>\n",
       "      <td>123.50</td>\n",
       "    </tr>\n",
       "  </tbody>\n",
       "</table>\n",
       "</div>"
      ],
      "text/plain": [
       "   Time        V1        V2       V10  Amount\n",
       "0   0.0 -1.359807 -0.072781  0.090794  149.62\n",
       "2   1.0 -1.358354 -1.340163  0.207643  378.66\n",
       "3   1.0 -0.966272 -0.185226 -0.054952  123.50"
      ]
     },
     "execution_count": 14,
     "metadata": {},
     "output_type": "execute_result"
    }
   ],
   "source": [
    "Xr"
   ]
  },
  {
   "cell_type": "code",
   "execution_count": 15,
   "metadata": {},
   "outputs": [],
   "source": [
    "X, e, l=Xr,ee,l"
   ]
  },
  {
   "cell_type": "code",
   "execution_count": 16,
   "metadata": {},
   "outputs": [
    {
     "data": {
      "text/plain": [
       "True"
      ]
     },
     "execution_count": 16,
     "metadata": {},
     "output_type": "execute_result"
    }
   ],
   "source": [
    "e < l and len(X.index) > 1"
   ]
  },
  {
   "cell_type": "code",
   "execution_count": 17,
   "metadata": {},
   "outputs": [
    {
     "data": {
      "text/plain": [
       "<tree.decisionTreeNode at 0x1108356a0>"
      ]
     },
     "execution_count": 17,
     "metadata": {},
     "output_type": "execute_result"
    }
   ],
   "source": [
    "nodeInfo(X, Length=e, isLeaf=True)"
   ]
  },
  {
   "cell_type": "code",
   "execution_count": 16,
   "metadata": {},
   "outputs": [
    {
     "data": {
      "text/plain": [
       "1"
      ]
     },
     "execution_count": 16,
     "metadata": {},
     "output_type": "execute_result"
    }
   ],
   "source": [
    "e"
   ]
  },
  {
   "cell_type": "code",
   "execution_count": null,
   "metadata": {},
   "outputs": [],
   "source": []
  }
 ],
 "metadata": {
  "kernelspec": {
   "display_name": "Python 3",
   "language": "python",
   "name": "python3"
  },
  "language_info": {
   "codemirror_mode": {
    "name": "ipython",
    "version": 3
   },
   "file_extension": ".py",
   "mimetype": "text/x-python",
   "name": "python",
   "nbconvert_exporter": "python",
   "pygments_lexer": "ipython3",
   "version": "3.6.5"
  }
 },
 "nbformat": 4,
 "nbformat_minor": 2
}
